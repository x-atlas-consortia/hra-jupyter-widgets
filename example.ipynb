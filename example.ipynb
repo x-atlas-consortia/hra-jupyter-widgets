{
	"cells": [
		{
			"cell_type": "code",
			"execution_count": 1,
			"metadata": {},
			"outputs": [
				{
					"name": "stdout",
					"output_type": "stream",
					"text": [
						"env: ANYWIDGET_HMR=1\n"
					]
				}
			],
			"source": [
				"%load_ext autoreload\n",
				"%autoreload 2\n",
				"%env ANYWIDGET_HMR=1"
			]
		},
		{
			"cell_type": "code",
			"execution_count": 2,
			"metadata": {},
			"outputs": [],
			"source": [
				"from hra_jupyter_widgets import *"
			]
		},
		{
			"cell_type": "code",
			"execution_count": 5,
			"metadata": {},
			"outputs": [
				{
					"data": {
						"application/vnd.jupyter.widget-view+json": {
							"model_id": "e4f4a8f474374a4f8e2eb446f2858d78",
							"version_major": 2,
							"version_minor": 1
						},
						"text/plain": [
							"HraFtuExplorerSmallWidget(selected_illustration='https://purl.humanatlas.io/2d-ftu/kidney-renal-corpuscle')"
						]
					},
					"metadata": {},
					"output_type": "display_data"
				},
				{
					"name": "stdout",
					"output_type": "stream",
					"text": [
						"{'label': 'efferent arteriole endothelial cell', 'svg_id': 'Efferent_Arteriole_Endothelial_Cell_14', 'svg_group_id': 'Efferent_Arteriole_Endothelial_Cell', 'representation_of': 'http://purl.obolibrary.org/obo/CL_1001099', '@id': 'https://purl.humanatlas.io/2d-ftu/kidney-renal-corpuscle#Efferent_Arteriole_Endothelial_Cell_14', '@type': 'FtuIllustrationNode'}\n"
					]
				}
			],
			"source": [
				"widget = HraFtuExplorerSmallWidget(\n",
				"    selected_illustration=\"https://purl.humanatlas.io/2d-ftu/kidney-renal-corpuscle\",\n",
				")\n",
				"widget.on_cell_click(print)\n",
				"display(widget)"
			]
		}
	],
	"metadata": {
		"kernelspec": {
			"display_name": ".venv",
			"language": "python",
			"name": "python3"
		},
		"language_info": {
			"codemirror_mode": {
				"name": "ipython",
				"version": 3
			},
			"file_extension": ".py",
			"mimetype": "text/x-python",
			"name": "python",
			"nbconvert_exporter": "python",
			"pygments_lexer": "ipython3",
			"version": "3.11.9"
		}
	},
	"nbformat": 4,
	"nbformat_minor": 2
}
