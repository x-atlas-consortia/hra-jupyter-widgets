{
	"cells": [
		{
			"cell_type": "code",
			"execution_count": 1,
			"metadata": {},
			"outputs": [
				{
					"name": "stdout",
					"output_type": "stream",
					"text": [
						"env: ANYWIDGET_HMR=1\n"
					]
				}
			],
			"source": [
				"%load_ext autoreload\n",
				"%autoreload 2\n",
				"%env ANYWIDGET_HMR=1"
			]
		},
		{
			"cell_type": "code",
			"execution_count": 2,
			"metadata": {},
			"outputs": [],
			"source": [
				"from hra_jupyter_widgets import HraMedicalIllustrationWidget, HraFtuExplorerWidget, HraFtuExplorerSmallWidget"
			]
		},
		{
			"cell_type": "code",
			"execution_count": 3,
			"metadata": {},
			"outputs": [
				{
					"data": {
						"application/vnd.jupyter.widget-view+json": {
							"model_id": "541fbb9f2e1547078f60b99cc4180070",
							"version_major": 2,
							"version_minor": 1
						},
						"text/plain": [
							"HraFtuExplorerSmallWidget(selected_illustration='https://purl.humanatlas.io/2d-ftu/kidney-renal-corpuscle')"
						]
					},
					"metadata": {},
					"output_type": "display_data"
				},
				{
					"name": "stdout",
					"output_type": "stream",
					"text": [
						"HraFtuExplorerSmallWidget(selected_illustration='https://purl.humanatlas.io/2d-ftu/kidney-renal-corpuscle') {'event': 'cell-hover', 'data': None} []\n",
						"HraFtuExplorerSmallWidget(selected_illustration='https://purl.humanatlas.io/2d-ftu/kidney-renal-corpuscle') {'event': 'illustration-selected', 'data': 'https://purl.humanatlas.io/2d-ftu/kidney-renal-corpuscle'} []\n",
						"HraFtuExplorerSmallWidget(selected_illustration='https://purl.humanatlas.io/2d-ftu/kidney-renal-corpuscle') {'event': 'cell-hover', 'data': {'label': 'glomerular capillary endothelial cell', 'svg_id': 'Glomerular_Capillary_Endothelial_Cell_5', 'svg_group_id': 'Glomerular_Capillary_Endothelial_Cell', 'representation_of': 'http://purl.obolibrary.org/obo/CL_1001005', '@id': 'https://purl.humanatlas.io/2d-ftu/kidney-renal-corpuscle#Glomerular_Capillary_Endothelial_Cell_5', '@type': 'FtuIllustrationNode'}} []\n",
						"HraFtuExplorerSmallWidget(selected_illustration='https://purl.humanatlas.io/2d-ftu/kidney-renal-corpuscle') {'event': 'cell-hover', 'data': None} []\n"
					]
				}
			],
			"source": [
				"test = HraFtuExplorerSmallWidget(\n",
				"    selected_illustration=\"https://purl.humanatlas.io/2d-ftu/kidney-renal-corpuscle\",\n",
				"    # illustrations=\"https://cdn.humanatlas.io/digital-objects/graph/2d-ftu-illustrations/latest/assets/2d-ftu-illustrations.jsonld\",\n",
				")\n",
				"test.on_cell_click(print)\n",
				"display(test)"
			]
		}
	],
	"metadata": {
		"kernelspec": {
			"display_name": ".venv",
			"language": "python",
			"name": "python3"
		},
		"language_info": {
			"codemirror_mode": {
				"name": "ipython",
				"version": 3
			},
			"file_extension": ".py",
			"mimetype": "text/x-python",
			"name": "python",
			"nbconvert_exporter": "python",
			"pygments_lexer": "ipython3",
			"version": "3.11.9"
		}
	},
	"nbformat": 4,
	"nbformat_minor": 2
}
