{
	"cells": [
		{
			"cell_type": "code",
			"execution_count": 1,
			"metadata": {},
			"outputs": [
				{
					"name": "stdout",
					"output_type": "stream",
					"text": [
						"env: ANYWIDGET_HMR=1\n"
					]
				}
			],
			"source": [
				"%load_ext autoreload\n",
				"%autoreload 2\n",
				"%env ANYWIDGET_HMR=1"
			]
		},
		{
			"cell_type": "code",
			"execution_count": 2,
			"metadata": {},
			"outputs": [],
			"source": [
				"from hra_jupyter_widgets import *"
			]
		},
		{
			"cell_type": "code",
			"execution_count": 3,
			"metadata": {},
			"outputs": [
				{
					"data": {
						"application/vnd.jupyter.widget-view+json": {
							"model_id": "8461ced27a1949c7890141ad0c7e8cb9",
							"version_major": 2,
							"version_minor": 1
						},
						"text/plain": [
							"HraFtuExplorerSmallWidget(selected_illustration='https://purl.humanatlas.io/2d-ftu/kidney-renal-corpuscle')"
						]
					},
					"metadata": {},
					"output_type": "display_data"
				},
				{
					"name": "stdout",
					"output_type": "stream",
					"text": [
						"{'label': 'macula densa epithelial cell', 'svg_id': 'Macula_Densa_Epithelial_Cell_6', 'svg_group_id': 'Macula_Densa_Epithelial_Cell', 'representation_of': 'http://purl.obolibrary.org/obo/CL_1000850', '@id': 'https://purl.humanatlas.io/2d-ftu/kidney-renal-corpuscle#Macula_Densa_Epithelial_Cell_6', '@type': 'FtuIllustrationNode'}\n"
					]
				}
			],
			"source": [
				"widget = HraFtuExplorerSmallWidget(\n",
				"    selected_illustration=\"https://purl.humanatlas.io/2d-ftu/kidney-renal-corpuscle\",\n",
				"    # illustrations=\"https://cdn.humanatlas.io/digital-objects/graph/2d-ftu-illustrations/latest/assets/2d-ftu-illustrations.jsonld\",\n",
				")\n",
				"widget.on_cell_click(print)\n",
				"display(widget)"
			]
		}
	],
	"metadata": {
		"kernelspec": {
			"display_name": ".venv",
			"language": "python",
			"name": "python3"
		},
		"language_info": {
			"codemirror_mode": {
				"name": "ipython",
				"version": 3
			},
			"file_extension": ".py",
			"mimetype": "text/x-python",
			"name": "python",
			"nbconvert_exporter": "python",
			"pygments_lexer": "ipython3",
			"version": "3.11.9"
		}
	},
	"nbformat": 4,
	"nbformat_minor": 2
}
