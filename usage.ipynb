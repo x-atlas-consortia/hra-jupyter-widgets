{
	"cells": [
		{
			"cell_type": "markdown",
			"metadata": {},
			"source": [
				"## Usage\n",
				"This notebook shows how to use the different widgets provided by the hra_jupyter_widgets package."
			]
		},
		{
			"cell_type": "markdown",
			"metadata": {},
			"source": [
				"### Install package"
			]
		},
		{
			"cell_type": "code",
			"execution_count": 1,
			"metadata": {},
			"outputs": [
				{
					"name": "stdout",
					"output_type": "stream",
					"text": [
						"Requirement already satisfied: hra_jupyter_widgets in ./.venv/lib/python3.10/site-packages (0.1.0)\n",
						"Requirement already satisfied: anywidget in ./.venv/lib/python3.10/site-packages (from hra_jupyter_widgets) (0.9.13)\n",
						"Requirement already satisfied: ipywidgets>=7.6.0 in ./.venv/lib/python3.10/site-packages (from anywidget->hra_jupyter_widgets) (8.1.5)\n",
						"Requirement already satisfied: psygnal>=0.8.1 in ./.venv/lib/python3.10/site-packages (from anywidget->hra_jupyter_widgets) (0.11.1)\n",
						"Requirement already satisfied: typing-extensions>=4.2.0 in ./.venv/lib/python3.10/site-packages (from anywidget->hra_jupyter_widgets) (4.12.2)\n",
						"Requirement already satisfied: jupyterlab-widgets~=3.0.12 in ./.venv/lib/python3.10/site-packages (from ipywidgets>=7.6.0->anywidget->hra_jupyter_widgets) (3.0.13)\n",
						"Requirement already satisfied: ipython>=6.1.0 in ./.venv/lib/python3.10/site-packages (from ipywidgets>=7.6.0->anywidget->hra_jupyter_widgets) (8.27.0)\n",
						"Requirement already satisfied: comm>=0.1.3 in ./.venv/lib/python3.10/site-packages (from ipywidgets>=7.6.0->anywidget->hra_jupyter_widgets) (0.2.2)\n",
						"Requirement already satisfied: traitlets>=4.3.1 in ./.venv/lib/python3.10/site-packages (from ipywidgets>=7.6.0->anywidget->hra_jupyter_widgets) (5.14.3)\n",
						"Requirement already satisfied: widgetsnbextension~=4.0.12 in ./.venv/lib/python3.10/site-packages (from ipywidgets>=7.6.0->anywidget->hra_jupyter_widgets) (4.0.13)\n",
						"Requirement already satisfied: pygments>=2.4.0 in ./.venv/lib/python3.10/site-packages (from ipython>=6.1.0->ipywidgets>=7.6.0->anywidget->hra_jupyter_widgets) (2.18.0)\n",
						"Requirement already satisfied: prompt-toolkit<3.1.0,>=3.0.41 in ./.venv/lib/python3.10/site-packages (from ipython>=6.1.0->ipywidgets>=7.6.0->anywidget->hra_jupyter_widgets) (3.0.47)\n",
						"Requirement already satisfied: jedi>=0.16 in ./.venv/lib/python3.10/site-packages (from ipython>=6.1.0->ipywidgets>=7.6.0->anywidget->hra_jupyter_widgets) (0.19.1)\n",
						"Requirement already satisfied: matplotlib-inline in ./.venv/lib/python3.10/site-packages (from ipython>=6.1.0->ipywidgets>=7.6.0->anywidget->hra_jupyter_widgets) (0.1.7)\n",
						"Requirement already satisfied: pexpect>4.3 in ./.venv/lib/python3.10/site-packages (from ipython>=6.1.0->ipywidgets>=7.6.0->anywidget->hra_jupyter_widgets) (4.9.0)\n",
						"Requirement already satisfied: exceptiongroup in ./.venv/lib/python3.10/site-packages (from ipython>=6.1.0->ipywidgets>=7.6.0->anywidget->hra_jupyter_widgets) (1.2.2)\n",
						"Requirement already satisfied: stack-data in ./.venv/lib/python3.10/site-packages (from ipython>=6.1.0->ipywidgets>=7.6.0->anywidget->hra_jupyter_widgets) (0.6.3)\n",
						"Requirement already satisfied: decorator in ./.venv/lib/python3.10/site-packages (from ipython>=6.1.0->ipywidgets>=7.6.0->anywidget->hra_jupyter_widgets) (5.1.1)\n",
						"Requirement already satisfied: parso<0.9.0,>=0.8.3 in ./.venv/lib/python3.10/site-packages (from jedi>=0.16->ipython>=6.1.0->ipywidgets>=7.6.0->anywidget->hra_jupyter_widgets) (0.8.4)\n",
						"Requirement already satisfied: ptyprocess>=0.5 in ./.venv/lib/python3.10/site-packages (from pexpect>4.3->ipython>=6.1.0->ipywidgets>=7.6.0->anywidget->hra_jupyter_widgets) (0.7.0)\n",
						"Requirement already satisfied: wcwidth in ./.venv/lib/python3.10/site-packages (from prompt-toolkit<3.1.0,>=3.0.41->ipython>=6.1.0->ipywidgets>=7.6.0->anywidget->hra_jupyter_widgets) (0.2.13)\n",
						"Requirement already satisfied: executing>=1.2.0 in ./.venv/lib/python3.10/site-packages (from stack-data->ipython>=6.1.0->ipywidgets>=7.6.0->anywidget->hra_jupyter_widgets) (2.0.1)\n",
						"Requirement already satisfied: pure-eval in ./.venv/lib/python3.10/site-packages (from stack-data->ipython>=6.1.0->ipywidgets>=7.6.0->anywidget->hra_jupyter_widgets) (0.2.3)\n",
						"Requirement already satisfied: asttokens>=2.1.0 in ./.venv/lib/python3.10/site-packages (from stack-data->ipython>=6.1.0->ipywidgets>=7.6.0->anywidget->hra_jupyter_widgets) (2.4.1)\n",
						"Requirement already satisfied: six>=1.12.0 in ./.venv/lib/python3.10/site-packages (from asttokens>=2.1.0->stack-data->ipython>=6.1.0->ipywidgets>=7.6.0->anywidget->hra_jupyter_widgets) (1.16.0)\n",
						"Note: you may need to restart the kernel to use updated packages.\n"
					]
				}
			],
			"source": [
				"%pip install hra_jupyter_widgets"
			]
		},
		{
			"cell_type": "markdown",
			"metadata": {},
			"source": [
				"### Import widgets"
			]
		},
		{
			"cell_type": "code",
			"execution_count": 2,
			"metadata": {},
			"outputs": [],
			"source": [
				"import ipywidgets as widgets\n",
				"from hra_jupyter_widgets import (\n",
				"    EuiOrganInformation,\n",
				"    FtuExplorer,\n",
				"    FtuExplorerSmall,\n",
				"    MedicalIllustration,\n",
				"    ModelViewer\n",
				")"
			]
		},
		{
			"cell_type": "markdown",
			"metadata": {},
			"source": [
				"### Configure organ and illustration"
			]
		},
		{
			"cell_type": "code",
			"execution_count": 3,
			"metadata": {},
			"outputs": [],
			"source": [
				"# Kidney uberon id\n",
				"organ = \"http://purl.obolibrary.org/obo/UBERON_0002113\"\n",
				"illustration = \"https://purl.humanatlas.io/2d-ftu/kidney-renal-corpuscle\""
			]
		},
		{
			"cell_type": "markdown",
			"metadata": {},
			"source": [
				"### Create and use a widget"
			]
		},
		{
			"cell_type": "code",
			"execution_count": 10,
			"metadata": {},
			"outputs": [
				{
					"data": {
						"application/vnd.jupyter.widget-view+json": {
							"model_id": "08118c4a61514f6f96e15e3fea437bdc",
							"version_major": 2,
							"version_minor": 1
						},
						"text/plain": [
							"MedicalIllustration(highlight=None, illustrations='https://cdn.humanatlas.io/digital-objects/graph/2d-ftu-illu…"
						]
					},
					"metadata": {},
					"output_type": "display_data"
				}
			],
			"source": [
				"medical_illustration = MedicalIllustration(selected_illustration=illustration)\n",
				"display(medical_illustration)"
			]
		},
		{
			"cell_type": "code",
			"execution_count": 11,
			"metadata": {},
			"outputs": [
				{
					"data": {
						"application/vnd.jupyter.widget-view+json": {
							"model_id": "0bca3aede9564a198f54a76c3112a3fb",
							"version_major": 2,
							"version_minor": 0
						},
						"text/plain": [
							"Output()"
						]
					},
					"metadata": {},
					"output_type": "display_data"
				}
			],
			"source": [
				"# Create an output widget\n",
				"output = widgets.Output()\n",
				"\n",
				"\n",
				"# Create an event listener that prints to the output widget\n",
				"# It takes a single argument - the event data\n",
				"def cell_click(cell):\n",
				"    with output:\n",
				"        print(f\"Cell clicked: '{cell['label']}'\")\n",
				"\n",
				"\n",
				"# Register the listener\n",
				"medical_illustration.on_cell_click(cell_click)\n",
				"# Listeners can be removed by calling on_cell_click with remove=True, i.e.\n",
				"# medical_illustration.on_cell_click(cell_click, remove=True)\n",
				"\n",
				"display(output)"
			]
		},
		{
			"cell_type": "markdown",
			"metadata": {},
			"source": [
				"### Widget showcase"
			]
		},
		{
			"cell_type": "markdown",
			"metadata": {},
			"source": [
				"#### Eui Organ Information"
			]
		},
		{
			"cell_type": "code",
			"execution_count": 6,
			"metadata": {},
			"outputs": [
				{
					"data": {
						"application/vnd.jupyter.widget-view+json": {
							"model_id": "d1fe426766974d1ab6883a5942accd25",
							"version_major": 2,
							"version_minor": 1
						},
						"text/plain": [
							"EuiOrganInformation(data_sources=['https://purl.humanatlas.io/collection/ds-graphs'], organ_iri='http://purl.o…"
						]
					},
					"metadata": {},
					"output_type": "display_data"
				}
			],
			"source": [
				"organ_info = EuiOrganInformation(organ_iri=organ)\n",
				"display(organ_info)"
			]
		},
		{
			"cell_type": "markdown",
			"metadata": {},
			"source": [
				"#### FTU explorer (small version)"
			]
		},
		{
			"cell_type": "code",
			"execution_count": 7,
			"metadata": {},
			"outputs": [
				{
					"data": {
						"application/vnd.jupyter.widget-view+json": {
							"model_id": "4bd38f387e134988999140797af7bbf6",
							"version_major": 2,
							"version_minor": 1
						},
						"text/plain": [
							"FtuExplorerSmall(datasets='assets/TEMP/ftu-datasets.jsonld', illustrations=None, selected_illustration='https:…"
						]
					},
					"metadata": {},
					"output_type": "display_data"
				}
			],
			"source": [
				"ftu_explorer_small = FtuExplorerSmall(selected_illustration=illustration)\n",
				"display(ftu_explorer_small)"
			]
		},
		{
			"cell_type": "markdown",
			"metadata": {},
			"source": [
				"#### FTU explorer (full version)"
			]
		},
		{
			"cell_type": "code",
			"execution_count": 8,
			"metadata": {},
			"outputs": [
				{
					"data": {
						"application/vnd.jupyter.widget-view+json": {
							"model_id": "965da83b81be48048d48946829cd6c6b",
							"version_major": 2,
							"version_minor": 1
						},
						"text/plain": [
							"FtuExplorer(datasets='assets/TEMP/ftu-datasets.jsonld', illustrations=None, selected_illustration=None, summar…"
						]
					},
					"metadata": {},
					"output_type": "display_data"
				}
			],
			"source": [
				"ftu_explorer = FtuExplorer()\n",
				"display(ftu_explorer)"
			]
		},
		{
			"cell_type": "markdown",
			"metadata": {},
			"source": [
				"#### 3D Model Viewer"
			]
		},
		{
			"cell_type": "code",
			"execution_count": 9,
			"metadata": {},
			"outputs": [
				{
					"data": {
						"application/vnd.jupyter.widget-view+json": {
							"model_id": "940ffbfcf4cc4580bcdc706777a93818",
							"version_major": 2,
							"version_minor": 1
						},
						"text/plain": [
							"ModelViewer(url='https://cdn.humanatlas.io/digital-objects/ref-organ/kidney-female-left/latest/assets/3d-vh-f-…"
						]
					},
					"metadata": {},
					"output_type": "display_data"
				}
			],
			"source": [
				"model_viewer = ModelViewer(url=\"https://cdn.humanatlas.io/digital-objects/ref-organ/kidney-female-left/v1.3/assets/3d-vh-f-kidney-l.glb\")\n",
				"display(model_viewer)"
			]
		}
	],
	"metadata": {
		"kernelspec": {
			"display_name": ".venv",
			"language": "python",
			"name": "python3"
		},
		"language_info": {
			"codemirror_mode": {
				"name": "ipython",
				"version": 3
			},
			"file_extension": ".py",
			"mimetype": "text/x-python",
			"name": "python",
			"nbconvert_exporter": "python",
			"pygments_lexer": "ipython3",
			"version": "3.10.12"
		}
	},
	"nbformat": 4,
	"nbformat_minor": 2
}
