{
	"cells": [
		{
			"cell_type": "markdown",
			"metadata": {},
			"source": [
				"## Usage\n",
				"This notebook shows how to use the different widgets provided by the hra_jupyter_widgets package."
			]
		},
		{
			"cell_type": "markdown",
			"metadata": {},
			"source": [
				"### Install package"
			]
		},
		{
			"cell_type": "code",
			"execution_count": null,
			"metadata": {},
			"outputs": [],
			"source": [
				"%pip install hra_jupyter_widgets"
			]
		},
		{
			"cell_type": "markdown",
			"metadata": {},
			"source": [
				"### Import widgets"
			]
		},
		{
			"cell_type": "code",
			"execution_count": 2,
			"metadata": {},
			"outputs": [],
			"source": [
				"import ipywidgets as widgets\n",
				"from hra_jupyter_widgets import (\n",
				"    EuiOrganInformation,\n",
				"    FtuExplorer,\n",
				"    FtuExplorerSmall,\n",
				"    MedicalIllustration,\n",
				"    ModelViewer,\n",
				"    NodeDistVis,\n",
				")"
			]
		},
		{
			"cell_type": "markdown",
			"metadata": {},
			"source": [
				"### Configure organ and illustration"
			]
		},
		{
			"cell_type": "code",
			"execution_count": 3,
			"metadata": {},
			"outputs": [],
			"source": [
				"# Kidney uberon id\n",
				"organ = \"http://purl.obolibrary.org/obo/UBERON_0002113\"\n",
				"illustration = \"https://purl.humanatlas.io/2d-ftu/kidney-renal-corpuscle\""
			]
		},
		{
			"cell_type": "markdown",
			"metadata": {},
			"source": [
				"### Create and use a widget"
			]
		},
		{
			"cell_type": "code",
			"execution_count": 4,
			"metadata": {},
			"outputs": [
				{
					"data": {
						"application/vnd.jupyter.widget-view+json": {
							"model_id": "a306b9c6cca34932b1b175b7e7d4c161",
							"version_major": 2,
							"version_minor": 1
						},
						"text/plain": [
							"MedicalIllustration(highlight=None, illustrations='https://cdn.humanatlas.io/digital-objects/graph/2d-ftu-illu…"
						]
					},
					"metadata": {},
					"output_type": "display_data"
				}
			],
			"source": [
				"medical_illustration = MedicalIllustration(selected_illustration=illustration)\n",
				"display(medical_illustration)"
			]
		},
		{
			"cell_type": "code",
			"execution_count": 5,
			"metadata": {},
			"outputs": [
				{
					"data": {
						"application/vnd.jupyter.widget-view+json": {
							"model_id": "e98f0f895a884ee79af592a345b53c6b",
							"version_major": 2,
							"version_minor": 0
						},
						"text/plain": [
							"Output()"
						]
					},
					"metadata": {},
					"output_type": "display_data"
				}
			],
			"source": [
				"# Create an output widget\n",
				"output = widgets.Output()\n",
				"\n",
				"\n",
				"# Create an event listener that prints to the output widget\n",
				"# It takes a single argument - the event data\n",
				"def cell_click(cell):\n",
				"    with output:\n",
				"        print(f\"Cell clicked: '{cell['label']}'\")\n",
				"\n",
				"\n",
				"# Register the listener\n",
				"medical_illustration.on_cell_click(cell_click)\n",
				"# Listeners can be removed by calling on_cell_click with remove=True, i.e.\n",
				"# medical_illustration.on_cell_click(cell_click, remove=True)\n",
				"\n",
				"display(output)"
			]
		},
		{
			"cell_type": "markdown",
			"metadata": {},
			"source": [
				"### Widget showcase"
			]
		},
		{
			"cell_type": "markdown",
			"metadata": {},
			"source": [
				"#### Eui Organ Information"
			]
		},
		{
			"cell_type": "code",
			"execution_count": 6,
			"metadata": {},
			"outputs": [
				{
					"data": {
						"application/vnd.jupyter.widget-view+json": {
							"model_id": "ac160e53d7174fce80bf39b2c1737df5",
							"version_major": 2,
							"version_minor": 1
						},
						"text/plain": [
							"EuiOrganInformation(data_sources=['https://purl.humanatlas.io/collection/ds-graphs'], organ_iri='http://purl.o…"
						]
					},
					"metadata": {},
					"output_type": "display_data"
				}
			],
			"source": [
				"organ_info = EuiOrganInformation(organ_iri=organ)\n",
				"display(organ_info)"
			]
		},
		{
			"cell_type": "markdown",
			"metadata": {},
			"source": [
				"#### FTU explorer (small version)"
			]
		},
		{
			"cell_type": "code",
			"execution_count": 7,
			"metadata": {},
			"outputs": [
				{
					"data": {
						"application/vnd.jupyter.widget-view+json": {
							"model_id": "7cf230f7f4834b4781f949213b7be834",
							"version_major": 2,
							"version_minor": 1
						},
						"text/plain": [
							"FtuExplorerSmall(datasets='assets/TEMP/ftu-datasets.jsonld', illustrations=None, selected_illustration='https:…"
						]
					},
					"metadata": {},
					"output_type": "display_data"
				}
			],
			"source": [
				"ftu_explorer_small = FtuExplorerSmall(selected_illustration=illustration)\n",
				"display(ftu_explorer_small)"
			]
		},
		{
			"cell_type": "markdown",
			"metadata": {},
			"source": [
				"#### FTU explorer (full version)"
			]
		},
		{
			"cell_type": "code",
			"execution_count": 8,
			"metadata": {},
			"outputs": [
				{
					"data": {
						"application/vnd.jupyter.widget-view+json": {
							"model_id": "fafd01071bd249d69d4c75d819271c81",
							"version_major": 2,
							"version_minor": 1
						},
						"text/plain": [
							"FtuExplorer(datasets='assets/TEMP/ftu-datasets.jsonld', illustrations=None, selected_illustration=None, summar…"
						]
					},
					"metadata": {},
					"output_type": "display_data"
				}
			],
			"source": [
				"ftu_explorer = FtuExplorer()\n",
				"display(ftu_explorer)"
			]
		},
		{
			"cell_type": "markdown",
			"metadata": {},
			"source": [
				"#### 3D Model Viewer"
			]
		},
		{
			"cell_type": "code",
			"execution_count": 9,
			"metadata": {},
			"outputs": [
				{
					"data": {
						"application/vnd.jupyter.widget-view+json": {
							"model_id": "5f288968960046fdb7c7702e3be09ac4",
							"version_major": 2,
							"version_minor": 1
						},
						"text/plain": [
							"ModelViewer(url='https://cdn.humanatlas.io/digital-objects/ref-organ/kidney-female-left/v1.3/assets/3d-vh-f-ki…"
						]
					},
					"metadata": {},
					"output_type": "display_data"
				}
			],
			"source": [
				"model_viewer = ModelViewer(url=\"https://cdn.humanatlas.io/digital-objects/ref-organ/kidney-female-left/v1.3/assets/3d-vh-f-kidney-l.glb\")\n",
				"display(model_viewer)"
			]
		},
		{
			"cell_type": "markdown",
			"metadata": {},
			"source": [
				"#### Node distance visualization"
			]
		},
		{
			"cell_type": "code",
			"execution_count": 10,
			"metadata": {},
			"outputs": [
				{
					"data": {
						"application/vnd.jupyter.widget-view+json": {
							"model_id": "084d95329b09438a97a891ebc3f28dc3",
							"version_major": 2,
							"version_minor": 1
						},
						"text/plain": [
							"NodeDistVis(color_map=None, edges='https://cdn.humanatlas.io/image-store/vccf-data-cell-nodes/published/colon-…"
						]
					},
					"metadata": {},
					"output_type": "display_data"
				}
			],
			"source": [
				"node_dist_vis = NodeDistVis(\n",
				"    nodes=\"https://cdn.humanatlas.io/image-store/vccf-data-cell-nodes/published/colon-cycif-sorgerlab/CRC01002-nodes.csv\",\n",
				"    node_target_key=\"Cell Type\",\n",
				"    node_target_value=\"Endothelial\",\n",
				"    edges=\"https://cdn.humanatlas.io/image-store/vccf-data-cell-nodes/published/colon-cycif-sorgerlab/CRC01002-edges.csv\",\n",
				")\n",
				"display(node_dist_vis)"
			]
		}
	],
	"metadata": {
		"kernelspec": {
			"display_name": ".venv",
			"language": "python",
			"name": "python3"
		},
		"language_info": {
			"codemirror_mode": {
				"name": "ipython",
				"version": 3
			},
			"file_extension": ".py",
			"mimetype": "text/x-python",
			"name": "python",
			"nbconvert_exporter": "python",
			"pygments_lexer": "ipython3",
			"version": "3.9.19"
		}
	},
	"nbformat": 4,
	"nbformat_minor": 2
}
