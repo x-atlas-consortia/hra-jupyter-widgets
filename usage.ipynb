{
	"cells": [
		{
			"cell_type": "markdown",
			"metadata": {},
			"source": [
				"## Usage\n",
				"This notebook shows how to use the different widgets provided by the hra_jupyter_widgets package."
			]
		},
		{
			"cell_type": "markdown",
			"metadata": {},
			"source": [
				"### Install package"
			]
		},
		{
			"cell_type": "code",
			"execution_count": 14,
			"metadata": {},
			"outputs": [
				{
					"name": "stdout",
					"output_type": "stream",
					"text": [
						"Requirement already satisfied: hra_jupyter_widgets in ./.venv/lib/python3.10/site-packages (0.1.4)\n",
						"Requirement already satisfied: ipywidgets in ./.venv/lib/python3.10/site-packages (8.1.5)\n",
						"Requirement already satisfied: anywidget in ./.venv/lib/python3.10/site-packages (from hra_jupyter_widgets) (0.9.13)\n",
						"Requirement already satisfied: traitlets>=5.10 in ./.venv/lib/python3.10/site-packages (from hra_jupyter_widgets) (5.14.3)\n",
						"Requirement already satisfied: jupyterlab-widgets~=3.0.12 in ./.venv/lib/python3.10/site-packages (from ipywidgets) (3.0.13)\n",
						"Requirement already satisfied: ipython>=6.1.0 in ./.venv/lib/python3.10/site-packages (from ipywidgets) (8.27.0)\n",
						"Requirement already satisfied: comm>=0.1.3 in ./.venv/lib/python3.10/site-packages (from ipywidgets) (0.2.2)\n",
						"Requirement already satisfied: widgetsnbextension~=4.0.12 in ./.venv/lib/python3.10/site-packages (from ipywidgets) (4.0.13)\n",
						"Requirement already satisfied: matplotlib-inline in ./.venv/lib/python3.10/site-packages (from ipython>=6.1.0->ipywidgets) (0.1.7)\n",
						"Requirement already satisfied: prompt-toolkit<3.1.0,>=3.0.41 in ./.venv/lib/python3.10/site-packages (from ipython>=6.1.0->ipywidgets) (3.0.47)\n",
						"Requirement already satisfied: jedi>=0.16 in ./.venv/lib/python3.10/site-packages (from ipython>=6.1.0->ipywidgets) (0.19.1)\n",
						"Requirement already satisfied: decorator in ./.venv/lib/python3.10/site-packages (from ipython>=6.1.0->ipywidgets) (5.1.1)\n",
						"Requirement already satisfied: stack-data in ./.venv/lib/python3.10/site-packages (from ipython>=6.1.0->ipywidgets) (0.6.3)\n",
						"Requirement already satisfied: pexpect>4.3 in ./.venv/lib/python3.10/site-packages (from ipython>=6.1.0->ipywidgets) (4.9.0)\n",
						"Requirement already satisfied: pygments>=2.4.0 in ./.venv/lib/python3.10/site-packages (from ipython>=6.1.0->ipywidgets) (2.18.0)\n",
						"Requirement already satisfied: exceptiongroup in ./.venv/lib/python3.10/site-packages (from ipython>=6.1.0->ipywidgets) (1.2.2)\n",
						"Requirement already satisfied: typing-extensions>=4.6 in ./.venv/lib/python3.10/site-packages (from ipython>=6.1.0->ipywidgets) (4.12.2)\n",
						"Requirement already satisfied: psygnal>=0.8.1 in ./.venv/lib/python3.10/site-packages (from anywidget->hra_jupyter_widgets) (0.11.1)\n",
						"Requirement already satisfied: parso<0.9.0,>=0.8.3 in ./.venv/lib/python3.10/site-packages (from jedi>=0.16->ipython>=6.1.0->ipywidgets) (0.8.4)\n",
						"Requirement already satisfied: ptyprocess>=0.5 in ./.venv/lib/python3.10/site-packages (from pexpect>4.3->ipython>=6.1.0->ipywidgets) (0.7.0)\n",
						"Requirement already satisfied: wcwidth in ./.venv/lib/python3.10/site-packages (from prompt-toolkit<3.1.0,>=3.0.41->ipython>=6.1.0->ipywidgets) (0.2.13)\n",
						"Requirement already satisfied: asttokens>=2.1.0 in ./.venv/lib/python3.10/site-packages (from stack-data->ipython>=6.1.0->ipywidgets) (2.4.1)\n",
						"Requirement already satisfied: pure-eval in ./.venv/lib/python3.10/site-packages (from stack-data->ipython>=6.1.0->ipywidgets) (0.2.3)\n",
						"Requirement already satisfied: executing>=1.2.0 in ./.venv/lib/python3.10/site-packages (from stack-data->ipython>=6.1.0->ipywidgets) (2.1.0)\n",
						"Requirement already satisfied: six>=1.12.0 in ./.venv/lib/python3.10/site-packages (from asttokens>=2.1.0->stack-data->ipython>=6.1.0->ipywidgets) (1.16.0)\n",
						"Note: you may need to restart the kernel to use updated packages.\n"
					]
				}
			],
			"source": [
				"%pip install hra_jupyter_widgets ipywidgets"
			]
		},
		{
			"cell_type": "markdown",
			"metadata": {},
			"source": [
				"### Import widgets"
			]
		},
		{
			"cell_type": "code",
			"execution_count": 15,
			"metadata": {},
			"outputs": [],
			"source": [
				"import ipywidgets as widgets\n",
				"from hra_jupyter_widgets import (\n",
				"    EuiOrganInformation,\n",
				"    FtuExplorer,\n",
				"    FtuExplorerSmall,\n",
				"    MedicalIllustration,\n",
				"    ModelViewer,\n",
				"    NodeDistVis,\n",
				")"
			]
		},
		{
			"cell_type": "markdown",
			"metadata": {},
			"source": [
				"### Configure organ and illustration"
			]
		},
		{
			"cell_type": "code",
			"execution_count": 16,
			"metadata": {},
			"outputs": [],
			"source": [
				"# Kidney uberon id\n",
				"organ = \"http://purl.obolibrary.org/obo/UBERON_0002113\"\n",
				"illustration = \"https://purl.humanatlas.io/2d-ftu/kidney-renal-corpuscle\""
			]
		},
		{
			"cell_type": "markdown",
			"metadata": {},
			"source": [
				"### Create and use a widget"
			]
		},
		{
			"cell_type": "code",
			"execution_count": 17,
			"metadata": {},
			"outputs": [
				{
					"data": {
						"application/vnd.jupyter.widget-view+json": {
							"model_id": "7ef789758ee14c3297a2869b0ee6175b",
							"version_major": 2,
							"version_minor": 1
						},
						"text/plain": [
							"MedicalIllustration(highlight=None, illustrations='https://cdn.humanatlas.io/digital-objects/graph/2d-ftu-illu…"
						]
					},
					"metadata": {},
					"output_type": "display_data"
				}
			],
			"source": [
				"medical_illustration = MedicalIllustration(selected_illustration=illustration)\n",
				"display(medical_illustration)"
			]
		},
		{
			"cell_type": "code",
			"execution_count": 18,
			"metadata": {},
			"outputs": [
				{
					"data": {
						"application/vnd.jupyter.widget-view+json": {
							"model_id": "c028da3b6327463d948e09fb639963e0",
							"version_major": 2,
							"version_minor": 0
						},
						"text/plain": [
							"Output()"
						]
					},
					"metadata": {},
					"output_type": "display_data"
				}
			],
			"source": [
				"# Create an output widget\n",
				"output = widgets.Output()\n",
				"\n",
				"\n",
				"# Create an event listener that prints to the output widget\n",
				"# It takes a single argument - the event data\n",
				"def cell_click(cell):\n",
				"    with output:\n",
				"        print(f\"Cell clicked: '{cell['label']}'\")\n",
				"\n",
				"\n",
				"# Register the listener\n",
				"medical_illustration.on_cell_click(cell_click)\n",
				"# Listeners can be removed by calling on_cell_click with remove=True, i.e.\n",
				"# medical_illustration.on_cell_click(cell_click, remove=True)\n",
				"\n",
				"display(output)"
			]
		},
		{
			"cell_type": "markdown",
			"metadata": {},
			"source": [
				"### Widget showcase"
			]
		},
		{
			"cell_type": "markdown",
			"metadata": {},
			"source": [
				"#### Eui Organ Information"
			]
		},
		{
			"cell_type": "code",
			"execution_count": 19,
			"metadata": {},
			"outputs": [
				{
					"data": {
						"application/vnd.jupyter.widget-view+json": {
							"model_id": "fee04d9109a24e718ba35ae160f6b8a6",
							"version_major": 2,
							"version_minor": 1
						},
						"text/plain": [
							"EuiOrganInformation(data_sources=['https://purl.humanatlas.io/collection/ds-graphs'], organ_iri='http://purl.o…"
						]
					},
					"metadata": {},
					"output_type": "display_data"
				}
			],
			"source": [
				"organ_info = EuiOrganInformation(organ_iri=organ)\n",
				"display(organ_info)"
			]
		},
		{
			"cell_type": "markdown",
			"metadata": {},
			"source": [
				"#### FTU explorer (small version)"
			]
		},
		{
			"cell_type": "code",
			"execution_count": 20,
			"metadata": {},
			"outputs": [
				{
					"data": {
						"application/vnd.jupyter.widget-view+json": {
							"model_id": "89375e21630c4ad5b8d8a2ea65ef4596",
							"version_major": 2,
							"version_minor": 1
						},
						"text/plain": [
							"FtuExplorerSmall(datasets='assets/TEMP/ftu-datasets.jsonld', illustrations=None, selected_illustration='https:…"
						]
					},
					"metadata": {},
					"output_type": "display_data"
				}
			],
			"source": [
				"ftu_explorer_small = FtuExplorerSmall(selected_illustration=illustration)\n",
				"display(ftu_explorer_small)"
			]
		},
		{
			"cell_type": "markdown",
			"metadata": {},
			"source": [
				"#### FTU explorer (full version)"
			]
		},
		{
			"cell_type": "code",
			"execution_count": 21,
			"metadata": {},
			"outputs": [
				{
					"data": {
						"application/vnd.jupyter.widget-view+json": {
							"model_id": "985320aac62a48c6aa6e8ccb829e8342",
							"version_major": 2,
							"version_minor": 1
						},
						"text/plain": [
							"FtuExplorer(datasets='assets/TEMP/ftu-datasets.jsonld', illustrations=None, selected_illustration=None, summar…"
						]
					},
					"metadata": {},
					"output_type": "display_data"
				}
			],
			"source": [
				"ftu_explorer = FtuExplorer()\n",
				"display(ftu_explorer)"
			]
		},
		{
			"cell_type": "markdown",
			"metadata": {},
			"source": [
				"#### 3D Model Viewer"
			]
		},
		{
			"cell_type": "code",
			"execution_count": 22,
			"metadata": {},
			"outputs": [
				{
					"data": {
						"application/vnd.jupyter.widget-view+json": {
							"model_id": "2274f2b205c64e109a4f2887395d367a",
							"version_major": 2,
							"version_minor": 1
						},
						"text/plain": [
							"ModelViewer(url='https://cdn.humanatlas.io/digital-objects/ref-organ/kidney-female-left/v1.3/assets/3d-vh-f-ki…"
						]
					},
					"metadata": {},
					"output_type": "display_data"
				}
			],
			"source": [
				"model_viewer = ModelViewer(url=\"https://cdn.humanatlas.io/digital-objects/ref-organ/kidney-female-left/v1.3/assets/3d-vh-f-kidney-l.glb\")\n",
				"display(model_viewer)"
			]
		},
		{
			"cell_type": "markdown",
			"metadata": {},
			"source": [
				"#### Node distance visualization"
			]
		},
		{
			"cell_type": "code",
			"execution_count": 23,
			"metadata": {},
			"outputs": [
				{
					"data": {
						"application/vnd.jupyter.widget-view+json": {
							"model_id": "d72fa69f21b944ad82929d8bb001af07",
							"version_major": 2,
							"version_minor": 1
						},
						"text/plain": [
							"NodeDistVis(color_map=None, edges='https://cdn.humanatlas.io/image-store/vccf-data-cell-nodes/published/colon-…"
						]
					},
					"metadata": {},
					"output_type": "display_data"
				}
			],
			"source": [
				"node_dist_vis = NodeDistVis(\n",
				"    nodes=\"https://cdn.humanatlas.io/image-store/vccf-data-cell-nodes/published/colon-cycif-sorgerlab/CRC01002-nodes.csv\",\n",
				"    node_target_key=\"Cell Type\",\n",
				"    node_target_value=\"Endothelial\",\n",
				"    edges=\"https://cdn.humanatlas.io/image-store/vccf-data-cell-nodes/published/colon-cycif-sorgerlab/CRC01002-edges.csv\",\n",
				")\n",
				"display(node_dist_vis)"
			]
		}
	],
	"metadata": {
		"kernelspec": {
			"display_name": ".venv",
			"language": "python",
			"name": "python3"
		},
		"language_info": {
			"codemirror_mode": {
				"name": "ipython",
				"version": 3
			},
			"file_extension": ".py",
			"mimetype": "text/x-python",
			"name": "python",
			"nbconvert_exporter": "python",
			"pygments_lexer": "ipython3",
			"version": "3.10.12"
		}
	},
	"nbformat": 4,
	"nbformat_minor": 2
}
