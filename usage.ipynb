{
	"cells": [
		{
			"cell_type": "markdown",
			"metadata": {},
			"source": [
				"## Usage\n",
				"This notebook shows how to use the different widgets provided by the hra_jupyter_widgets package."
			]
		},
		{
			"cell_type": "markdown",
			"metadata": {},
			"source": [
				"### Install package"
			]
		},
		{
			"cell_type": "code",
			"execution_count": null,
			"metadata": {},
			"outputs": [],
			"source": [
				"%pip install hra_jupyter_widgets ipywidgets"
			]
		},
		{
			"cell_type": "markdown",
			"metadata": {},
			"source": [
				"### Import widgets"
			]
		},
		{
			"cell_type": "code",
			"execution_count": 13,
			"metadata": {},
			"outputs": [],
			"source": [
				"import ipywidgets as widgets\n",
				"from hra_jupyter_widgets import (\n",
				"    CdeVisualization,\n",
				"    Eui,\n",
				"    EuiOrganInformation,\n",
				"    FtuExplorer,\n",
				"    FtuExplorerSmall,\n",
				"    MedicalIllustration,\n",
				"    ModelViewer,\n",
				"    NodeDistVis,\n",
				"    Rui,\n",
				")"
			]
		},
		{
			"cell_type": "markdown",
			"metadata": {},
			"source": [
				"### Configure organ and illustration"
			]
		},
		{
			"cell_type": "code",
			"execution_count": 3,
			"metadata": {},
			"outputs": [],
			"source": [
				"# Kidney uberon id\n",
				"organ = \"http://purl.obolibrary.org/obo/UBERON_0002113\"\n",
				"illustration = \"https://purl.humanatlas.io/2d-ftu/kidney-renal-corpuscle\""
			]
		},
		{
			"cell_type": "markdown",
			"metadata": {},
			"source": [
				"### Create and use a widget"
			]
		},
		{
			"cell_type": "code",
			"execution_count": 4,
			"metadata": {},
			"outputs": [
				{
					"data": {
						"application/vnd.jupyter.widget-view+json": {
							"model_id": "16139d2f9e164707b3b82798bb6e6fb6",
							"version_major": 2,
							"version_minor": 1
						},
						"text/plain": [
							"MedicalIllustration(highlight=None, illustrations='https://cdn.humanatlas.io/digital-objects/graph/2d-ftu-illu…"
						]
					},
					"metadata": {},
					"output_type": "display_data"
				}
			],
			"source": [
				"medical_illustration = MedicalIllustration(selected_illustration=illustration)\n",
				"display(medical_illustration)"
			]
		},
		{
			"cell_type": "code",
			"execution_count": 5,
			"metadata": {},
			"outputs": [
				{
					"data": {
						"application/vnd.jupyter.widget-view+json": {
							"model_id": "673ab22e646e4b91b1c1ba97933bb68e",
							"version_major": 2,
							"version_minor": 0
						},
						"text/plain": [
							"Output()"
						]
					},
					"metadata": {},
					"output_type": "display_data"
				}
			],
			"source": [
				"# Create an output widget\n",
				"output = widgets.Output()\n",
				"\n",
				"\n",
				"# Create an event listener that prints to the output widget\n",
				"# It takes a single argument - the event data\n",
				"def cell_click(cell):\n",
				"    with output:\n",
				"        print(f\"Cell clicked: '{cell['label']}'\")\n",
				"\n",
				"\n",
				"# Register the listener\n",
				"medical_illustration.on_cell_click(cell_click)\n",
				"# Listeners can be removed by calling on_cell_click with remove=True, i.e.\n",
				"# medical_illustration.on_cell_click(cell_click, remove=True)\n",
				"\n",
				"display(output)"
			]
		},
		{
			"cell_type": "markdown",
			"metadata": {},
			"source": [
				"### Widget showcase"
			]
		},
		{
			"cell_type": "markdown",
			"metadata": {},
			"source": [
				"#### Eui Organ Information"
			]
		},
		{
			"cell_type": "code",
			"execution_count": 6,
			"metadata": {},
			"outputs": [
				{
					"data": {
						"application/vnd.jupyter.widget-view+json": {
							"model_id": "03eb63d4964a45baabb753419d056bc3",
							"version_major": 2,
							"version_minor": 1
						},
						"text/plain": [
							"EuiOrganInformation(asctb_url=None, data_sources=['https://purl.humanatlas.io/collection/ds-graphs'], donor_la…"
						]
					},
					"metadata": {},
					"output_type": "display_data"
				}
			],
			"source": [
				"organ_info = EuiOrganInformation(organ_iri=organ)\n",
				"display(organ_info)"
			]
		},
		{
			"cell_type": "markdown",
			"metadata": {},
			"source": [
				"#### Eui"
			]
		},
		{
			"cell_type": "code",
			"execution_count": 14,
			"metadata": {},
			"outputs": [
				{
					"data": {
						"application/vnd.jupyter.widget-view+json": {
							"model_id": "c210c10ed08c4b1c8bd7bd3d7a31f2b5",
							"version_major": 2,
							"version_minor": 1
						},
						"text/plain": [
							"Eui(data_sources=['https://purl.humanatlas.io/collection/ds-graphs'], filter=None, header=False, height='1000p…"
						]
					},
					"metadata": {},
					"output_type": "display_data"
				}
			],
			"source": [
				"eui = Eui()\n",
				"display(eui)"
			]
		},
		{
			"cell_type": "markdown",
			"metadata": {},
			"source": [
				"#### Rui"
			]
		},
		{
			"cell_type": "code",
			"execution_count": 15,
			"metadata": {},
			"outputs": [
				{
					"data": {
						"application/vnd.jupyter.widget-view+json": {
							"model_id": "c59ba1b9597a437da920e64768c43c90",
							"version_major": 2,
							"version_minor": 1
						},
						"text/plain": [
							"Rui(collisions_endpoint=None, edit_registration=None, header=False, height='1000px', home_url=None, organ=None…"
						]
					},
					"metadata": {},
					"output_type": "display_data"
				}
			],
			"source": [
				"rui = Rui()\n",
				"display(rui)"
			]
		},
		{
			"cell_type": "markdown",
			"metadata": {},
			"source": [
				"#### FTU explorer (small version)"
			]
		},
		{
			"cell_type": "code",
			"execution_count": 7,
			"metadata": {},
			"outputs": [
				{
					"data": {
						"application/vnd.jupyter.widget-view+json": {
							"model_id": "fc3131ee84c44360ad4c348a4666978c",
							"version_major": 2,
							"version_minor": 1
						},
						"text/plain": [
							"FtuExplorerSmall(datasets='assets/TEMP/ftu-datasets.jsonld', height='1000px', illustrations=None, selected_ill…"
						]
					},
					"metadata": {},
					"output_type": "display_data"
				}
			],
			"source": [
				"ftu_explorer_small = FtuExplorerSmall(selected_illustration=illustration)\n",
				"display(ftu_explorer_small)"
			]
		},
		{
			"cell_type": "markdown",
			"metadata": {},
			"source": [
				"#### FTU explorer (full version)"
			]
		},
		{
			"cell_type": "code",
			"execution_count": 8,
			"metadata": {},
			"outputs": [
				{
					"data": {
						"application/vnd.jupyter.widget-view+json": {
							"model_id": "6691cfa62c374b588f71f5a4d370ffb5",
							"version_major": 2,
							"version_minor": 1
						},
						"text/plain": [
							"FtuExplorer(datasets='assets/TEMP/ftu-datasets.jsonld', height='1000px', illustrations=None, selected_illustra…"
						]
					},
					"metadata": {},
					"output_type": "display_data"
				}
			],
			"source": [
				"ftu_explorer = FtuExplorer()\n",
				"display(ftu_explorer)"
			]
		},
		{
			"cell_type": "markdown",
			"metadata": {},
			"source": [
				"#### 3D Model Viewer"
			]
		},
		{
			"cell_type": "code",
			"execution_count": 9,
			"metadata": {},
			"outputs": [
				{
					"data": {
						"application/vnd.jupyter.widget-view+json": {
							"model_id": "17c21e50c70b45ef9a8a8afe5f71659b",
							"version_major": 2,
							"version_minor": 1
						},
						"text/plain": [
							"ModelViewer(url='https://cdn.humanatlas.io/digital-objects/ref-organ/kidney-female-left/v1.3/assets/3d-vh-f-ki…"
						]
					},
					"metadata": {},
					"output_type": "display_data"
				}
			],
			"source": [
				"model_viewer = ModelViewer(url=\"https://cdn.humanatlas.io/digital-objects/ref-organ/kidney-female-left/v1.3/assets/3d-vh-f-kidney-l.glb\")\n",
				"display(model_viewer)"
			]
		},
		{
			"cell_type": "markdown",
			"metadata": {},
			"source": [
				"#### Node distance visualization"
			]
		},
		{
			"cell_type": "code",
			"execution_count": 10,
			"metadata": {},
			"outputs": [
				{
					"data": {
						"application/vnd.jupyter.widget-view+json": {
							"model_id": "d809ef324fd2483f89ac1131094a4f14",
							"version_major": 2,
							"version_minor": 1
						},
						"text/plain": [
							"NodeDistVis(color_map=None, color_map_data=None, color_map_key=None, edges='https://cdn.humanatlas.io/image-st…"
						]
					},
					"metadata": {},
					"output_type": "display_data"
				}
			],
			"source": [
				"node_dist_vis = NodeDistVis(\n",
				"    nodes=\"https://cdn.humanatlas.io/image-store/vccf-data-cell-nodes/published/colon-cycif-sorgerlab/CRC01002-nodes.csv\",\n",
				"    node_target_key=\"Cell Type\",\n",
				"    node_target_value=\"Endothelial\",\n",
				"    edges=\"https://cdn.humanatlas.io/image-store/vccf-data-cell-nodes/published/colon-cycif-sorgerlab/CRC01002-edges.csv\",\n",
				")\n",
				"display(node_dist_vis)"
			]
		},
		{
			"cell_type": "markdown",
			"metadata": {},
			"source": [
				"#### Cell Distance Explorer"
			]
		},
		{
			"cell_type": "code",
			"execution_count": 11,
			"metadata": {},
			"outputs": [
				{
					"data": {
						"application/vnd.jupyter.widget-view+json": {
							"model_id": "8226db41f0cc405db210e827f8230e66",
							"version_major": 2,
							"version_minor": 1
						},
						"text/plain": [
							"CdeVisualization(age=None, color_map=None, color_map_key=None, color_map_value_key=None, creation_timestamp=No…"
						]
					},
					"metadata": {},
					"output_type": "display_data"
				}
			],
			"source": [
				"cde = CdeVisualization(\n",
				"    nodes=\"https://cdn.humanatlas.io/image-store/vccf-data-cell-nodes/published/colon-cycif-sorgerlab/CRC01002-nodes.csv\"\n",
				")\n",
				"display(cde)"
			]
		}
	],
	"metadata": {
		"kernelspec": {
			"display_name": ".venv",
			"language": "python",
			"name": "python3"
		},
		"language_info": {
			"codemirror_mode": {
				"name": "ipython",
				"version": 3
			},
			"file_extension": ".py",
			"mimetype": "text/x-python",
			"name": "python",
			"nbconvert_exporter": "python",
			"pygments_lexer": "ipython3",
			"version": "3.9.19"
		}
	},
	"nbformat": 4,
	"nbformat_minor": 2
}
